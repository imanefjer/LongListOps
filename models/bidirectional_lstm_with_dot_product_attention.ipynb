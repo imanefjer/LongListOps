{
 "cells": [
  {
   "cell_type": "code",
   "execution_count": 1,
   "id": "5f3d1af7",
   "metadata": {
    "execution": {
     "iopub.execute_input": "2024-12-08T23:51:35.183121Z",
     "iopub.status.busy": "2024-12-08T23:51:35.182776Z",
     "iopub.status.idle": "2024-12-08T23:51:38.255175Z",
     "shell.execute_reply": "2024-12-08T23:51:38.254474Z"
    },
    "papermill": {
     "duration": 3.079123,
     "end_time": "2024-12-08T23:51:38.257133",
     "exception": false,
     "start_time": "2024-12-08T23:51:35.178010",
     "status": "completed"
    },
    "tags": []
   },
   "outputs": [],
   "source": [
    "import torch\n",
    "import torch.nn as nn\n",
    "from tqdm import tqdm\n",
    "import sys\n",
    "import numpy as np\n",
    "import os\n",
    "sys.path.append(os.path.abspath('../data'))\n",
    "from torch.utils.data import DataLoader\n",
    "from torch.nn.utils.rnn import PackedSequence, pack_padded_sequence, pad_packed_sequence,pad_sequence\n",
    "from torch.utils.data import Dataset, DataLoader\n",
    "import matplotlib.pyplot as plt\n"
   ]
  },
  {
   "cell_type": "code",
   "execution_count": 2,
   "id": "64b24da8",
   "metadata": {
    "execution": {
     "iopub.execute_input": "2024-12-08T23:51:38.264486Z",
     "iopub.status.busy": "2024-12-08T23:51:38.264085Z",
     "iopub.status.idle": "2024-12-08T23:51:38.272203Z",
     "shell.execute_reply": "2024-12-08T23:51:38.271493Z"
    },
    "papermill": {
     "duration": 0.013488,
     "end_time": "2024-12-08T23:51:38.273830",
     "exception": false,
     "start_time": "2024-12-08T23:51:38.260342",
     "status": "completed"
    },
    "tags": []
   },
   "outputs": [],
   "source": [
    "\n",
    "\n",
    "def tokenize(expression):\n",
    "    \"\"\"Convert expression string to tokens, preserving operators.\"\"\"\n",
    "    # Replace parentheses with spaces\n",
    "    expr = expression.replace('(', ' ').replace(')', ' ')\n",
    "\n",
    "    # Add spaces around brackets that aren't part of operators\n",
    "    expr = expr.replace(']', ' ] ')\n",
    "\n",
    "    # Split and filter empty strings\n",
    "    return [token for token in expr.split() if token]\n",
    "\n",
    "class ListOpsDataset(Dataset):\n",
    "    def __init__(self, X, y):\n",
    "        \"\"\"\n",
    "        Args:\n",
    "            X: Array of source expressions\n",
    "            y: Array of target values\n",
    "        \"\"\"\n",
    "        self.X = X\n",
    "        self.y = y\n",
    "\n",
    "        # Create vocabulary from operators and digits\n",
    "        self.vocab = {\n",
    "            'PAD': 0,  # Padding token\n",
    "            '[MIN': 1,\n",
    "            '[MAX': 2,\n",
    "            '[MED': 3,\n",
    "            '[SM': 4,\n",
    "            ']': 5,\n",
    "            '(': 6,\n",
    "            ')': 7\n",
    "        }\n",
    "        # Add digits 0-9\n",
    "        for i in range(10):\n",
    "            self.vocab[str(i)] = i + 8\n",
    "\n",
    "    def __len__(self):\n",
    "        return len(self.X)\n",
    "\n",
    "    def tokenize(self, expr):\n",
    "        \"\"\"Convert expression to token IDs.\"\"\"\n",
    "        tokens = tokenize(expr)  # Using our previous tokenize function\n",
    "        return [self.vocab.get(token, 0) for token in tokens]\n",
    "\n",
    "    def __getitem__(self, idx):\n",
    "        expr = self.X[idx]\n",
    "        target = self.y[idx]\n",
    "\n",
    "        # Convert to token IDs without padding or truncating\n",
    "        token_ids = self.tokenize(expr)\n",
    "\n",
    "        return {\n",
    "            'input_ids': torch.tensor(token_ids, dtype=torch.long),\n",
    "            'target': torch.tensor(target, dtype=torch.long)\n",
    "        }"
   ]
  },
  {
   "cell_type": "code",
   "execution_count": 3,
   "id": "12e44469",
   "metadata": {
    "execution": {
     "iopub.execute_input": "2024-12-08T23:51:38.280184Z",
     "iopub.status.busy": "2024-12-08T23:51:38.279909Z",
     "iopub.status.idle": "2024-12-08T23:51:49.506111Z",
     "shell.execute_reply": "2024-12-08T23:51:49.505206Z"
    },
    "papermill": {
     "duration": 11.231269,
     "end_time": "2024-12-08T23:51:49.507809",
     "exception": false,
     "start_time": "2024-12-08T23:51:38.276540",
     "status": "completed"
    },
    "tags": []
   },
   "outputs": [
    {
     "name": "stdout",
     "output_type": "stream",
     "text": [
      "Loading training data...\n",
      "Loading validation data...\n",
      "Loading test data...\n",
      "\n",
      "Dataset sizes:\n",
      "Training: 96000 examples\n",
      "Validation: 2000 examples\n",
      "Test: 2000 examples\n"
     ]
    }
   ],
   "source": [
    "\n",
    "# Define the data directory and file paths\n",
    "data_dir = '/kaggle/input/data-output'\n",
    "train_file = os.path.join(data_dir, 'basic_train.tsv')\n",
    "val_file = os.path.join(data_dir, 'basic_val.tsv')\n",
    "test_file = os.path.join(data_dir, 'basic_test.tsv')\n",
    "\n",
    "def load_listops_data(file_path, max_rows=None):\n",
    "    \"\"\"\n",
    "    Load ListOps data from TSV file.\n",
    "\n",
    "    Args:\n",
    "        file_path: Path to the TSV file\n",
    "        max_rows: Maximum number of rows to load (for testing)\n",
    "\n",
    "    Returns:\n",
    "        sources: Array of source expressions\n",
    "        targets: Array of target values (0-9)\n",
    "    \"\"\"\n",
    "    sources = []\n",
    "    targets = []\n",
    "\n",
    "    with open(file_path, 'r', encoding='utf-8') as f:\n",
    "        next(f)  # Skip header (Source, Target)\n",
    "        for i, line in enumerate(f):\n",
    "            if max_rows and i >= max_rows:\n",
    "                break\n",
    "            if not line.strip():  # Skip empty lines\n",
    "                continue\n",
    "            parts = line.strip().split('\\t')\n",
    "            if len(parts) != 2:\n",
    "                continue  # Skip lines that don't have exactly two columns\n",
    "            source, target = parts\n",
    "            sources.append(source)\n",
    "            targets.append(int(target))  # Target is always 0-9\n",
    "\n",
    "    # Convert to numpy arrays\n",
    "    source_array = np.array(sources, dtype=object)  # Keep expressions as strings\n",
    "    target_array = np.array(targets, dtype=np.int32)  # Targets are integers\n",
    "\n",
    "    return source_array, target_array\n",
    "\n",
    "try:\n",
    "    # Load training data\n",
    "    print(\"Loading training data...\")\n",
    "    X_train, y_train = load_listops_data(train_file)\n",
    "\n",
    "    # Load validation data\n",
    "    print(\"Loading validation data...\")\n",
    "    X_val, y_val = load_listops_data(val_file)\n",
    "\n",
    "    # Load test data\n",
    "    print(\"Loading test data...\")\n",
    "    X_test, y_test = load_listops_data(test_file)\n",
    "\n",
    "    # Print dataset statistics\n",
    "    print(\"\\nDataset sizes:\")\n",
    "    print(f\"Training: {len(X_train)} examples\")\n",
    "    print(f\"Validation: {len(X_val)} examples\")\n",
    "    print(f\"Test: {len(X_test)} examples\")\n",
    "\n",
    "except Exception as e:\n",
    "    print(f\"Error occurred: {type(e).__name__}: {str(e)}\")"
   ]
  },
  {
   "cell_type": "code",
   "execution_count": 4,
   "id": "5bcbfb3d",
   "metadata": {
    "execution": {
     "iopub.execute_input": "2024-12-08T23:51:49.516101Z",
     "iopub.status.busy": "2024-12-08T23:51:49.515808Z",
     "iopub.status.idle": "2024-12-08T23:51:49.521723Z",
     "shell.execute_reply": "2024-12-08T23:51:49.520902Z"
    },
    "papermill": {
     "duration": 0.011428,
     "end_time": "2024-12-08T23:51:49.523466",
     "exception": false,
     "start_time": "2024-12-08T23:51:49.512038",
     "status": "completed"
    },
    "tags": []
   },
   "outputs": [],
   "source": [
    "\n",
    "def collate_fn(batch):\n",
    "    # Separate sequences and targets\n",
    "    sequences = [item['input_ids'] for item in batch]\n",
    "    targets = [item['target'] for item in batch]\n",
    "\n",
    "    # Get lengths of each sequence\n",
    "    lengths = torch.tensor([len(seq) for seq in sequences], dtype=torch.long, device=sequences[0].device)\n",
    "\n",
    "    # Sort sequences by length in descending order for pack_padded_sequence\n",
    "    lengths, sort_idx = lengths.sort(descending=True)\n",
    "    sequences = [sequences[i] for i in sort_idx]\n",
    "    targets = [targets[i] for i in sort_idx]\n",
    "\n",
    "    # Pad sequences\n",
    "    padded_sequences = pad_sequence(sequences, batch_first=True)\n",
    "    packed_sequences = pack_padded_sequence(padded_sequences, lengths, batch_first=True, enforce_sorted=False)\n",
    "    # Convert targets to tensor\n",
    "    targets = torch.stack(targets)\n",
    "\n",
    "    return {\n",
    "        'input_ids': packed_sequences,\n",
    "        'target': targets,\n",
    "        'lengths': lengths\n",
    "    }"
   ]
  },
  {
   "cell_type": "code",
   "execution_count": 5,
   "id": "cfe00ba0",
   "metadata": {
    "execution": {
     "iopub.execute_input": "2024-12-08T23:51:49.530034Z",
     "iopub.status.busy": "2024-12-08T23:51:49.529779Z",
     "iopub.status.idle": "2024-12-08T23:51:49.535882Z",
     "shell.execute_reply": "2024-12-08T23:51:49.535025Z"
    },
    "papermill": {
     "duration": 0.011357,
     "end_time": "2024-12-08T23:51:49.537637",
     "exception": false,
     "start_time": "2024-12-08T23:51:49.526280",
     "status": "completed"
    },
    "tags": []
   },
   "outputs": [
    {
     "name": "stdout",
     "output_type": "stream",
     "text": [
      "Dataset sizes:\n",
      "Train: 96000\n",
      "Val: 2000\n",
      "Test: 2000\n"
     ]
    }
   ],
   "source": [
    "\n",
    "# Create datasets\n",
    "train_dataset = ListOpsDataset(X_train, y_train)\n",
    "val_dataset = ListOpsDataset(X_val, y_val)\n",
    "test_dataset = ListOpsDataset(X_test, y_test)\n",
    "\n",
    "# Create dataloaders with collate_fn\n",
    "batch_size = 32\n",
    "train_loader = DataLoader(\n",
    "    train_dataset,\n",
    "    batch_size=batch_size,\n",
    "    shuffle=True,\n",
    "    collate_fn=collate_fn\n",
    ")\n",
    "val_loader = DataLoader(\n",
    "    val_dataset,\n",
    "    batch_size=batch_size,\n",
    "    collate_fn=collate_fn\n",
    ")\n",
    "test_loader = DataLoader(\n",
    "    test_dataset,\n",
    "    batch_size=batch_size,\n",
    "    collate_fn=collate_fn\n",
    ")\n",
    "\n",
    "# Verify the data\n",
    "print(\"Dataset sizes:\")\n",
    "print(f\"Train: {len(train_dataset)}\")\n",
    "print(f\"Val: {len(val_dataset)}\")\n",
    "print(f\"Test: {len(test_dataset)}\")\n"
   ]
  },
  {
   "cell_type": "code",
   "execution_count": 6,
   "id": "1493c557",
   "metadata": {
    "execution": {
     "iopub.execute_input": "2024-12-08T23:51:49.544467Z",
     "iopub.status.busy": "2024-12-08T23:51:49.544160Z",
     "iopub.status.idle": "2024-12-08T23:51:49.602310Z",
     "shell.execute_reply": "2024-12-08T23:51:49.601346Z"
    },
    "papermill": {
     "duration": 0.063479,
     "end_time": "2024-12-08T23:51:49.603937",
     "exception": false,
     "start_time": "2024-12-08T23:51:49.540458",
     "status": "completed"
    },
    "tags": []
   },
   "outputs": [
    {
     "name": "stdout",
     "output_type": "stream",
     "text": [
      "Using device: cuda\n"
     ]
    }
   ],
   "source": [
    "# Validation function\n",
    "\n",
    "def validate(model, val_loader, criterion, device):\n",
    "    model.eval()\n",
    "    total_loss = 0\n",
    "    correct = 0\n",
    "    total = 0\n",
    "\n",
    "    with torch.no_grad():\n",
    "        for batch in val_loader:\n",
    "            batch = {k: v.to(device) for k, v in batch.items()}\n",
    "\n",
    "            outputs = model(batch) \n",
    "            loss = criterion(outputs, batch['target'])\n",
    "\n",
    "            total_loss += loss.item()\n",
    "            _, predicted = outputs.max(1)\n",
    "            total += batch['target'].size(0)\n",
    "            correct += predicted.eq(batch['target']).sum().item()\n",
    "\n",
    "    return total_loss / len(val_loader), 100. * correct / total\n",
    "\n",
    "# Initialize model and training components\n",
    "device = torch.device('cuda' if torch.cuda.is_available() else 'cpu')\n",
    "print(f\"Using device: {device}\")\n"
   ]
  },
  {
   "cell_type": "code",
   "execution_count": 7,
   "id": "b657372e",
   "metadata": {
    "execution": {
     "iopub.execute_input": "2024-12-08T23:51:49.610990Z",
     "iopub.status.busy": "2024-12-08T23:51:49.610695Z",
     "iopub.status.idle": "2024-12-08T23:51:49.615940Z",
     "shell.execute_reply": "2024-12-08T23:51:49.615127Z"
    },
    "papermill": {
     "duration": 0.010449,
     "end_time": "2024-12-08T23:51:49.617461",
     "exception": false,
     "start_time": "2024-12-08T23:51:49.607012",
     "status": "completed"
    },
    "tags": []
   },
   "outputs": [],
   "source": [
    "class FocalLoss(nn.Module):\n",
    "    def __init__(self, alpha=1, gamma=2):\n",
    "        super().__init__()\n",
    "        self.alpha = alpha\n",
    "        self.gamma = gamma\n",
    "        self.ce = nn.CrossEntropyLoss(reduction='none')\n",
    "\n",
    "    def forward(self, inputs, targets):\n",
    "        ce_loss = self.ce(inputs, targets)\n",
    "        pt = torch.exp(-ce_loss)\n",
    "        focal_loss = self.alpha * (1-pt)**self.gamma * ce_loss\n",
    "        return focal_loss.mean()\n"
   ]
  },
  {
   "cell_type": "code",
   "execution_count": 8,
   "id": "a2083df0",
   "metadata": {
    "execution": {
     "iopub.execute_input": "2024-12-08T23:51:49.624286Z",
     "iopub.status.busy": "2024-12-08T23:51:49.623997Z",
     "iopub.status.idle": "2024-12-08T23:51:49.629345Z",
     "shell.execute_reply": "2024-12-08T23:51:49.628673Z"
    },
    "papermill": {
     "duration": 0.010635,
     "end_time": "2024-12-08T23:51:49.630978",
     "exception": false,
     "start_time": "2024-12-08T23:51:49.620343",
     "status": "completed"
    },
    "tags": []
   },
   "outputs": [],
   "source": [
    "# Training configuration\n",
    "class EarlyStopping:\n",
    "    def __init__(self, patience=7, min_delta=0):\n",
    "        self.patience = patience\n",
    "        self.min_delta = min_delta\n",
    "        self.counter = 0\n",
    "        self.best_loss = None\n",
    "        self.early_stop = False\n",
    "        self.best_model = None\n",
    "\n",
    "    def __call__(self, val_loss, model):\n",
    "        if self.best_loss is None:\n",
    "            self.best_loss = val_loss\n",
    "            self.best_model = model.state_dict()\n",
    "        elif val_loss > self.best_loss - self.min_delta:\n",
    "            self.counter += 1\n",
    "            if self.counter >= self.patience:\n",
    "                self.early_stop = True\n",
    "        else:\n",
    "            self.best_loss = val_loss\n",
    "            self.best_model = model.state_dict()\n",
    "            self.counter = 0\n"
   ]
  },
  {
   "cell_type": "code",
   "execution_count": 9,
   "id": "8bc1fafb",
   "metadata": {
    "execution": {
     "iopub.execute_input": "2024-12-08T23:51:49.638603Z",
     "iopub.status.busy": "2024-12-08T23:51:49.637998Z",
     "iopub.status.idle": "2024-12-09T01:55:23.449874Z",
     "shell.execute_reply": "2024-12-09T01:55:23.448952Z"
    },
    "papermill": {
     "duration": 7413.817637,
     "end_time": "2024-12-09T01:55:23.451695",
     "exception": false,
     "start_time": "2024-12-08T23:51:49.634058",
     "status": "completed"
    },
    "tags": []
   },
   "outputs": [
    {
     "name": "stderr",
     "output_type": "stream",
     "text": [
      "/opt/conda/lib/python3.10/site-packages/torch/optim/lr_scheduler.py:60: UserWarning: The verbose parameter is deprecated. Please use get_last_lr() to access the learning rate.\n",
      "  warnings.warn(\n",
      "Epoch 1/7: 100%|██████████| 3000/3000 [17:30<00:00,  2.86it/s, loss=1.12, acc=29.5]\n"
     ]
    },
    {
     "name": "stdout",
     "output_type": "stream",
     "text": [
      "Epoch 1/7:\n",
      "Training Loss: 1.4632\n",
      "Training Accuracy: 29.48%\n",
      "Validation Loss: 1.2144\n",
      "Validation Accuracy: 35.85%\n"
     ]
    },
    {
     "name": "stderr",
     "output_type": "stream",
     "text": [
      "Epoch 2/7: 100%|██████████| 3000/3000 [17:31<00:00,  2.85it/s, loss=1.16, acc=36]\n"
     ]
    },
    {
     "name": "stdout",
     "output_type": "stream",
     "text": [
      "Epoch 2/7:\n",
      "Training Loss: 1.2165\n",
      "Training Accuracy: 35.97%\n",
      "Validation Loss: 1.1648\n",
      "Validation Accuracy: 36.75%\n"
     ]
    },
    {
     "name": "stderr",
     "output_type": "stream",
     "text": [
      "Epoch 3/7: 100%|██████████| 3000/3000 [17:28<00:00,  2.86it/s, loss=1.08, acc=37.2]\n"
     ]
    },
    {
     "name": "stdout",
     "output_type": "stream",
     "text": [
      "Epoch 3/7:\n",
      "Training Loss: 1.1413\n",
      "Training Accuracy: 37.24%\n",
      "Validation Loss: 1.0876\n",
      "Validation Accuracy: 38.15%\n"
     ]
    },
    {
     "name": "stderr",
     "output_type": "stream",
     "text": [
      "Epoch 4/7: 100%|██████████| 3000/3000 [17:30<00:00,  2.86it/s, loss=0.706, acc=39.2]\n"
     ]
    },
    {
     "name": "stdout",
     "output_type": "stream",
     "text": [
      "Epoch 4/7:\n",
      "Training Loss: 1.0601\n",
      "Training Accuracy: 39.16%\n",
      "Validation Loss: 0.9930\n",
      "Validation Accuracy: 41.25%\n"
     ]
    },
    {
     "name": "stderr",
     "output_type": "stream",
     "text": [
      "Epoch 5/7: 100%|██████████| 3000/3000 [17:29<00:00,  2.86it/s, loss=0.721, acc=42.3]\n"
     ]
    },
    {
     "name": "stdout",
     "output_type": "stream",
     "text": [
      "Epoch 5/7:\n",
      "Training Loss: 0.9862\n",
      "Training Accuracy: 42.29%\n",
      "Validation Loss: 0.9312\n",
      "Validation Accuracy: 46.80%\n"
     ]
    },
    {
     "name": "stderr",
     "output_type": "stream",
     "text": [
      "Epoch 6/7: 100%|██████████| 3000/3000 [17:30<00:00,  2.86it/s, loss=0.877, acc=49.4]\n"
     ]
    },
    {
     "name": "stdout",
     "output_type": "stream",
     "text": [
      "Epoch 6/7:\n",
      "Training Loss: 0.8653\n",
      "Training Accuracy: 49.39%\n",
      "Validation Loss: 0.7990\n",
      "Validation Accuracy: 52.60%\n"
     ]
    },
    {
     "name": "stderr",
     "output_type": "stream",
     "text": [
      "Epoch 7/7: 100%|██████████| 3000/3000 [17:30<00:00,  2.86it/s, loss=0.793, acc=53.5]\n"
     ]
    },
    {
     "name": "stdout",
     "output_type": "stream",
     "text": [
      "Epoch 7/7:\n",
      "Training Loss: 0.7947\n",
      "Training Accuracy: 53.49%\n",
      "Validation Loss: 0.7780\n",
      "Validation Accuracy: 54.25%\n"
     ]
    }
   ],
   "source": [
    "class AttentionLSTM(nn.Module):\n",
    "    def __init__(self, vocab_size, embedding_dim=128, hidden_dim=256, num_layers=2, dropout=0.3, num_classes=10):\n",
    "        super().__init__()\n",
    "        \n",
    "        self.embedding = nn.Embedding(vocab_size, embedding_dim)\n",
    "        self.lstm = nn.LSTM(\n",
    "            input_size=embedding_dim,\n",
    "            hidden_size=hidden_dim,\n",
    "            num_layers=num_layers,\n",
    "            batch_first=True,\n",
    "            dropout=dropout if num_layers > 1 else 0,\n",
    "            bidirectional=True\n",
    "        )\n",
    "        \n",
    "        # Attention layer\n",
    "        self.attention = nn.Linear(hidden_dim * 2, 1)\n",
    "        \n",
    "        # Final classification layers\n",
    "        self.fc = nn.Sequential(\n",
    "            nn.Linear(hidden_dim * 2, hidden_dim),\n",
    "            nn.ReLU(),\n",
    "            nn.Dropout(dropout),\n",
    "            nn.Linear(hidden_dim, num_classes)\n",
    "        )\n",
    "\n",
    "    def forward(self, batch):\n",
    "        # Get the packed sequence from the batch\n",
    "        input_ids = batch['input_ids']\n",
    "        lengths = batch['lengths']\n",
    "        \n",
    "        # Embed the input\n",
    "        if isinstance(input_ids, PackedSequence):\n",
    "            seq, lens = pad_packed_sequence(input_ids, batch_first=True)\n",
    "            x = self.embedding(seq)\n",
    "            packed_embedded = pack_padded_sequence(x, lens, batch_first=True, enforce_sorted=False)\n",
    "        else:\n",
    "            x = self.embedding(input_ids)\n",
    "            packed_embedded = pack_padded_sequence(x, lengths.cpu(), batch_first=True, enforce_sorted=False)\n",
    "\n",
    "        # Pass through LSTM\n",
    "        packed_output, _ = self.lstm(packed_embedded)\n",
    "        \n",
    "        # Unpack the sequence\n",
    "        lstm_output, lengths = pad_packed_sequence(packed_output, batch_first=True)\n",
    "        batch_size = lstm_output.size(0)\n",
    "        query = lstm_output[:, -1, :]\n",
    "        # Calculate attention weights\n",
    "        attention_scores = torch.bmm(lstm_output, query.unsqueeze(2)).squeeze(2)\n",
    "        attention_weights = torch.softmax(attention_scores, dim=1)\n",
    "        \n",
    "        # Apply attention weights to get context vector\n",
    "        context_vector = torch.bmm(attention_weights.unsqueeze(1), lstm_output)\n",
    "        context_vector = context_vector.squeeze(1)\n",
    "        \n",
    "        # Final classification\n",
    "        output = self.fc(context_vector)\n",
    "        return output\n",
    "\n",
    "# Initialize the model\n",
    "vocab_size = len(train_dataset.vocab)  # Get vocabulary size from your dataset\n",
    "model = AttentionLSTM(vocab_size=vocab_size).to(device)\n",
    "\n",
    "# Initialize optimizer\n",
    "optimizer = torch.optim.AdamW(model.parameters(), lr=0.001, weight_decay=0.01)\n",
    "scheduler = torch.optim.lr_scheduler.ReduceLROnPlateau(optimizer, mode='min', factor=0.5, patience=3, verbose=True)\n",
    "criterion = FocalLoss(gamma=2)\n",
    "# Training loop\n",
    "def train_model(model, train_loader, val_loader, criterion, optimizer, scheduler, num_epochs=7):\n",
    "    early_stopping = EarlyStopping(patience=7)\n",
    "    train_losses = []\n",
    "    val_losses = []\n",
    "    val_accuracies = []\n",
    "    \n",
    "    for epoch in range(num_epochs):\n",
    "        model.train()\n",
    "        total_loss = 0\n",
    "        correct = 0  \n",
    "        total = 0    \n",
    "        \n",
    "        with tqdm(train_loader, desc=f'Epoch {epoch+1}/{num_epochs}') as pbar:\n",
    "            for batch in pbar:\n",
    "                batch = {k: v.to(device) for k, v in batch.items()}\n",
    "                \n",
    "                optimizer.zero_grad()\n",
    "                outputs = model(batch)\n",
    "                loss = criterion(outputs, batch['target'])\n",
    "                \n",
    "                # Calculate training accuracy\n",
    "                _, predicted = outputs.max(1)\n",
    "                total += batch['target'].size(0)\n",
    "                correct += predicted.eq(batch['target']).sum().item()\n",
    "                \n",
    "                loss.backward()\n",
    "                torch.nn.utils.clip_grad_norm_(model.parameters(), max_norm=1.0)\n",
    "                optimizer.step()\n",
    "                \n",
    "                total_loss += loss.item()\n",
    "                # Update progress bar with both loss and accuracy\n",
    "                pbar.set_postfix({\n",
    "                    'loss': loss.item(),\n",
    "                    'acc': 100. * correct / total\n",
    "                })\n",
    "        \n",
    "        # Calculate training accuracy for the epoch\n",
    "        train_accuracy = 100. * correct / total\n",
    "        \n",
    "        # Validation phase\n",
    "        val_loss, val_accuracy = validate(model, val_loader, criterion, device)\n",
    "        \n",
    "        # Learning rate scheduling\n",
    "        scheduler.step(val_loss)\n",
    "        \n",
    "        # Print epoch results with both accuracies\n",
    "        print(f'Epoch {epoch+1}/{num_epochs}:')\n",
    "        print(f'Training Loss: {total_loss/len(train_loader):.4f}')\n",
    "        print(f'Training Accuracy: {train_accuracy:.2f}%')\n",
    "        print(f'Validation Loss: {val_loss:.4f}')\n",
    "        print(f'Validation Accuracy: {val_accuracy:.2f}%')\n",
    "        \n",
    "        # Early stopping\n",
    "        early_stopping(val_loss, model)\n",
    "        if early_stopping.early_stop:\n",
    "            print(\"Early stopping triggered\")\n",
    "            model.load_state_dict(early_stopping.best_model)\n",
    "            break\n",
    "        \n",
    "        # Store metrics\n",
    "        train_losses.append(total_loss/len(train_loader))\n",
    "        val_losses.append(val_loss)\n",
    "        val_accuracies.append(val_accuracy)\n",
    "    \n",
    "    return train_losses, val_losses, val_accuracies\n",
    "\n",
    "# Train the model\n",
    "train_losses, val_losses, val_accuracies = train_model(\n",
    "    model, train_loader, val_loader, criterion, optimizer, scheduler\n",
    ")"
   ]
  },
  {
   "cell_type": "code",
   "execution_count": 10,
   "id": "97660eeb",
   "metadata": {
    "execution": {
     "iopub.execute_input": "2024-12-09T01:55:27.483537Z",
     "iopub.status.busy": "2024-12-09T01:55:27.482864Z",
     "iopub.status.idle": "2024-12-09T03:59:38.129691Z",
     "shell.execute_reply": "2024-12-09T03:59:38.128792Z"
    },
    "papermill": {
     "duration": 7452.700432,
     "end_time": "2024-12-09T03:59:38.131780",
     "exception": false,
     "start_time": "2024-12-09T01:55:25.431348",
     "status": "completed"
    },
    "tags": []
   },
   "outputs": [
    {
     "name": "stderr",
     "output_type": "stream",
     "text": [
      "Epoch 1/7: 100%|██████████| 3000/3000 [17:32<00:00,  2.85it/s, loss=0.656, acc=55.2]\n"
     ]
    },
    {
     "name": "stdout",
     "output_type": "stream",
     "text": [
      "Epoch 1/7:\n",
      "Training Loss: 0.7649\n",
      "Training Accuracy: 55.19%\n",
      "Validation Loss: 0.7482\n",
      "Validation Accuracy: 55.05%\n"
     ]
    },
    {
     "name": "stderr",
     "output_type": "stream",
     "text": [
      "Epoch 2/7: 100%|██████████| 3000/3000 [17:31<00:00,  2.85it/s, loss=0.715, acc=56.3]\n"
     ]
    },
    {
     "name": "stdout",
     "output_type": "stream",
     "text": [
      "Epoch 2/7:\n",
      "Training Loss: 0.7462\n",
      "Training Accuracy: 56.29%\n",
      "Validation Loss: 0.7517\n",
      "Validation Accuracy: 56.65%\n"
     ]
    },
    {
     "name": "stderr",
     "output_type": "stream",
     "text": [
      "Epoch 3/7: 100%|██████████| 3000/3000 [17:35<00:00,  2.84it/s, loss=0.772, acc=57.4]\n"
     ]
    },
    {
     "name": "stdout",
     "output_type": "stream",
     "text": [
      "Epoch 3/7:\n",
      "Training Loss: 0.7313\n",
      "Training Accuracy: 57.38%\n",
      "Validation Loss: 0.7346\n",
      "Validation Accuracy: 56.55%\n"
     ]
    },
    {
     "name": "stderr",
     "output_type": "stream",
     "text": [
      "Epoch 4/7: 100%|██████████| 3000/3000 [17:32<00:00,  2.85it/s, loss=0.693, acc=57.9]\n"
     ]
    },
    {
     "name": "stdout",
     "output_type": "stream",
     "text": [
      "Epoch 4/7:\n",
      "Training Loss: 0.7190\n",
      "Training Accuracy: 57.88%\n",
      "Validation Loss: 0.7307\n",
      "Validation Accuracy: 57.40%\n"
     ]
    },
    {
     "name": "stderr",
     "output_type": "stream",
     "text": [
      "Epoch 5/7: 100%|██████████| 3000/3000 [17:30<00:00,  2.85it/s, loss=0.94, acc=58.6]\n"
     ]
    },
    {
     "name": "stdout",
     "output_type": "stream",
     "text": [
      "Epoch 5/7:\n",
      "Training Loss: 0.7083\n",
      "Training Accuracy: 58.62%\n",
      "Validation Loss: 0.7327\n",
      "Validation Accuracy: 56.80%\n"
     ]
    },
    {
     "name": "stderr",
     "output_type": "stream",
     "text": [
      "Epoch 6/7: 100%|██████████| 3000/3000 [17:30<00:00,  2.86it/s, loss=0.988, acc=59.1]\n"
     ]
    },
    {
     "name": "stdout",
     "output_type": "stream",
     "text": [
      "Epoch 6/7:\n",
      "Training Loss: 0.6999\n",
      "Training Accuracy: 59.09%\n",
      "Validation Loss: 0.7231\n",
      "Validation Accuracy: 58.60%\n"
     ]
    },
    {
     "name": "stderr",
     "output_type": "stream",
     "text": [
      "Epoch 7/7: 100%|██████████| 3000/3000 [17:55<00:00,  2.79it/s, loss=0.604, acc=59.7]\n"
     ]
    },
    {
     "name": "stdout",
     "output_type": "stream",
     "text": [
      "Epoch 7/7:\n",
      "Training Loss: 0.6903\n",
      "Training Accuracy: 59.75%\n",
      "Validation Loss: 0.7160\n",
      "Validation Accuracy: 58.25%\n"
     ]
    },
    {
     "data": {
      "image/png": "[encoded data removed]",
      "text/plain": [
       "<Figure size 1200x500 with 2 Axes>"
      ]
     },
     "metadata": {},
     "output_type": "display_data"
    }
   ],
   "source": [
    "import matplotlib.pyplot as plt\n",
    "\n",
    "# After training the model\n",
    "train_losses, val_losses, val_accuracies = train_model(\n",
    "    model, train_loader, val_loader, criterion, optimizer, scheduler\n",
    ")\n",
    "\n",
    "# Plotting the training and validation losses\n",
    "plt.figure(figsize=(12, 5))\n",
    "\n",
    "# Plot losses\n",
    "plt.subplot(1, 2, 1)\n",
    "plt.plot(train_losses, label='Train Loss', color='blue')\n",
    "plt.plot(val_losses, label='Validation Loss', color='orange')\n",
    "plt.title('Training and Validation Loss')\n",
    "plt.xlabel('Epoch')\n",
    "plt.ylabel('Loss')\n",
    "plt.legend()\n",
    "\n",
    "# Plotting the validation accuracies\n",
    "plt.subplot(1, 2, 2)\n",
    "plt.plot(val_accuracies, label='Validation Accuracy', color='green')\n",
    "plt.title('Validation Accuracy')\n",
    "plt.xlabel('Epoch')\n",
    "plt.ylabel('Accuracy (%)')\n",
    "plt.legend()\n",
    "\n",
    "plt.tight_layout()\n",
    "plt.show()"
   ]
  },
  {
   "cell_type": "code",
   "execution_count": 11,
   "id": "da03faa3",
   "metadata": {
    "execution": {
     "iopub.execute_input": "2024-12-09T03:59:46.448495Z",
     "iopub.status.busy": "2024-12-09T03:59:46.447810Z",
     "iopub.status.idle": "2024-12-09T03:59:55.533992Z",
     "shell.execute_reply": "2024-12-09T03:59:55.533040Z"
    },
    "papermill": {
     "duration": 13.243154,
     "end_time": "2024-12-09T03:59:55.535649",
     "exception": false,
     "start_time": "2024-12-09T03:59:42.292495",
     "status": "completed"
    },
    "tags": []
   },
   "outputs": [
    {
     "name": "stdout",
     "output_type": "stream",
     "text": [
      "\n",
      "Test Loss: 0.7023 | Test Acc: 59.65%\n"
     ]
    }
   ],
   "source": [
    "test_loss, test_acc = validate(model, test_loader, criterion, device)\n",
    "print(f'\\nTest Loss: {test_loss:.4f} | Test Acc: {test_acc:.2f}%')"
   ]
  },
  {
   "cell_type": "code",
   "execution_count": 12,
   "id": "9506277b",
   "metadata": {
    "execution": {
     "iopub.execute_input": "2024-12-09T04:00:03.668496Z",
     "iopub.status.busy": "2024-12-09T04:00:03.668127Z",
     "iopub.status.idle": "2024-12-09T04:00:03.697074Z",
     "shell.execute_reply": "2024-12-09T04:00:03.696312Z"
    },
    "papermill": {
     "duration": 4.118005,
     "end_time": "2024-12-09T04:00:03.699062",
     "exception": false,
     "start_time": "2024-12-09T03:59:59.581057",
     "status": "completed"
    },
    "tags": []
   },
   "outputs": [],
   "source": [
    "torch.save(model.state_dict(), 'lstm_with_attention_model.pth')"
   ]
  }
 ],
 "metadata": {
  "kaggle": {
   "accelerator": "gpu",
   "dataSources": [
    {
     "datasetId": 6243843,
     "sourceId": 10119371,
     "sourceType": "datasetVersion"
    },
    {
     "datasetId": 6234013,
     "sourceId": 10106192,
     "sourceType": "datasetVersion"
    }
   ],
   "dockerImageVersionId": 30805,
   "isGpuEnabled": true,
   "isInternetEnabled": true,
   "language": "python",
   "sourceType": "notebook"
  },
  "kernelspec": {
   "display_name": "Python 3",
   "language": "python",
   "name": "python3"
  },
  "language_info": {
   "codemirror_mode": {
    "name": "ipython",
    "version": 3
   },
   "file_extension": ".py",
   "mimetype": "text/x-python",
   "name": "python",
   "nbconvert_exporter": "python",
   "pygments_lexer": "ipython3",
   "version": "3.10.14"
  },
  "papermill": {
   "default_parameters": {},
   "duration": 14917.437934,
   "end_time": "2024-12-09T04:00:10.150260",
   "environment_variables": {},
   "exception": null,
   "input_path": "__notebook__.ipynb",
   "output_path": "__notebook__.ipynb",
   "parameters": {},
   "start_time": "2024-12-08T23:51:32.712326",
   "version": "2.6.0"
  }
 },
 "nbformat": 4,
 "nbformat_minor": 5
}
