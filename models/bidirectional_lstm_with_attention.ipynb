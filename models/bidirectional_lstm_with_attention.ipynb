{
 "cells": [
  {
   "cell_type": "code",
   "execution_count": 1,
   "id": "fb186fe1",
   "metadata": {
    "execution": {
     "iopub.execute_input": "2024-12-07T09:30:50.585771Z",
     "iopub.status.busy": "2024-12-07T09:30:50.584801Z",
     "iopub.status.idle": "2024-12-07T09:30:53.711851Z",
     "shell.execute_reply": "2024-12-07T09:30:53.711162Z"
    },
    "papermill": {
     "duration": 3.134455,
     "end_time": "2024-12-07T09:30:53.714045",
     "exception": false,
     "start_time": "2024-12-07T09:30:50.579590",
     "status": "completed"
    },
    "tags": []
   },
   "outputs": [],
   "source": [
    "import torch\n",
    "import torch.nn as nn\n",
    "from tqdm import tqdm\n",
    "import sys\n",
    "import numpy as np\n",
    "import os\n",
    "sys.path.append(os.path.abspath('../data'))\n",
    "from torch.utils.data import DataLoader\n",
    "from torch.nn.utils.rnn import PackedSequence, pack_padded_sequence, pad_packed_sequence,pad_sequence\n",
    "from torch.utils.data import Dataset, DataLoader\n",
    "import re\n",
    "import matplotlib.pyplot as plt\n"
   ]
  },
  {
   "cell_type": "code",
   "execution_count": 2,
   "id": "ad3460ba",
   "metadata": {
    "execution": {
     "iopub.execute_input": "2024-12-07T09:30:53.721540Z",
     "iopub.status.busy": "2024-12-07T09:30:53.721186Z",
     "iopub.status.idle": "2024-12-07T09:30:53.729645Z",
     "shell.execute_reply": "2024-12-07T09:30:53.728814Z"
    },
    "papermill": {
     "duration": 0.013849,
     "end_time": "2024-12-07T09:30:53.731363",
     "exception": false,
     "start_time": "2024-12-07T09:30:53.717514",
     "status": "completed"
    },
    "tags": []
   },
   "outputs": [],
   "source": [
    "\n",
    "\n",
    "def tokenize(expression):\n",
    "    \"\"\"Convert expression string to tokens, preserving operators.\"\"\"\n",
    "    # Replace parentheses with spaces\n",
    "    expr = expression.replace('(', ' ').replace(')', ' ')\n",
    "\n",
    "    # Add spaces around brackets that aren't part of operators\n",
    "    expr = re.sub(r'\\[(?!(MIN|MAX|MED|SM))', ' [ ', expr)\n",
    "    expr = expr.replace(']', ' ] ')\n",
    "\n",
    "    # Split and filter empty strings\n",
    "    return [token for token in expr.split() if token]\n",
    "\n",
    "class ListOpsDataset(Dataset):\n",
    "    def __init__(self, X, y):\n",
    "        \"\"\"\n",
    "        Args:\n",
    "            X: Array of source expressions\n",
    "            y: Array of target values\n",
    "        \"\"\"\n",
    "        self.X = X\n",
    "        self.y = y\n",
    "\n",
    "        # Create vocabulary from operators and digits\n",
    "        self.vocab = {\n",
    "            'PAD': 0,  # Padding token\n",
    "            '[MIN': 1,\n",
    "            '[MAX': 2,\n",
    "            '[MED': 3,\n",
    "            '[SM': 4,\n",
    "            ']': 5,\n",
    "            '(': 6,\n",
    "            ')': 7\n",
    "        }\n",
    "        # Add digits 0-9\n",
    "        for i in range(10):\n",
    "            self.vocab[str(i)] = i + 8\n",
    "\n",
    "    def __len__(self):\n",
    "        return len(self.X)\n",
    "\n",
    "    def tokenize(self, expr):\n",
    "        \"\"\"Convert expression to token IDs.\"\"\"\n",
    "        tokens = tokenize(expr)  # Using our previous tokenize function\n",
    "        return [self.vocab.get(token, 0) for token in tokens]\n",
    "\n",
    "    def __getitem__(self, idx):\n",
    "        expr = self.X[idx]\n",
    "        target = self.y[idx]\n",
    "\n",
    "        # Convert to token IDs without padding or truncating\n",
    "        token_ids = self.tokenize(expr)\n",
    "\n",
    "        return {\n",
    "            'input_ids': torch.tensor(token_ids, dtype=torch.long),\n",
    "            'target': torch.tensor(target, dtype=torch.long)\n",
    "        }"
   ]
  },
  {
   "cell_type": "code",
   "execution_count": 3,
   "id": "a52f0ab4",
   "metadata": {
    "execution": {
     "iopub.execute_input": "2024-12-07T09:30:53.737721Z",
     "iopub.status.busy": "2024-12-07T09:30:53.737461Z",
     "iopub.status.idle": "2024-12-07T09:31:02.358855Z",
     "shell.execute_reply": "2024-12-07T09:31:02.357917Z"
    },
    "papermill": {
     "duration": 8.626635,
     "end_time": "2024-12-07T09:31:02.360726",
     "exception": false,
     "start_time": "2024-12-07T09:30:53.734091",
     "status": "completed"
    },
    "tags": []
   },
   "outputs": [
    {
     "name": "stdout",
     "output_type": "stream",
     "text": [
      "Loading training data...\n",
      "Loading validation data...\n",
      "Loading test data...\n",
      "\n",
      "Dataset sizes:\n",
      "Training: 96000 examples\n",
      "Validation: 2000 examples\n",
      "Test: 2000 examples\n"
     ]
    }
   ],
   "source": [
    "\n",
    "# Define the data directory and file paths\n",
    "data_dir = '/kaggle/input/data-output'\n",
    "train_file = os.path.join(data_dir, 'basic_train.tsv')\n",
    "val_file = os.path.join(data_dir, 'basic_val.tsv')\n",
    "test_file = os.path.join(data_dir, 'basic_test.tsv')\n",
    "\n",
    "def load_listops_data(file_path, max_rows=None):\n",
    "    \"\"\"\n",
    "    Load ListOps data from TSV file.\n",
    "\n",
    "    Args:\n",
    "        file_path: Path to the TSV file\n",
    "        max_rows: Maximum number of rows to load (for testing)\n",
    "\n",
    "    Returns:\n",
    "        sources: Array of source expressions\n",
    "        targets: Array of target values (0-9)\n",
    "    \"\"\"\n",
    "    sources = []\n",
    "    targets = []\n",
    "\n",
    "    with open(file_path, 'r', encoding='utf-8') as f:\n",
    "        next(f)  # Skip header (Source, Target)\n",
    "        for i, line in enumerate(f):\n",
    "            if max_rows and i >= max_rows:\n",
    "                break\n",
    "            if not line.strip():  # Skip empty lines\n",
    "                continue\n",
    "            parts = line.strip().split('\\t')\n",
    "            if len(parts) != 2:\n",
    "                continue  # Skip lines that don't have exactly two columns\n",
    "            source, target = parts\n",
    "            sources.append(source)\n",
    "            targets.append(int(target))  # Target is always 0-9\n",
    "\n",
    "    # Convert to numpy arrays\n",
    "    source_array = np.array(sources, dtype=object)  # Keep expressions as strings\n",
    "    target_array = np.array(targets, dtype=np.int32)  # Targets are integers\n",
    "\n",
    "    return source_array, target_array\n",
    "\n",
    "try:\n",
    "    # Load training data\n",
    "    print(\"Loading training data...\")\n",
    "    X_train, y_train = load_listops_data(train_file)\n",
    "\n",
    "    # Load validation data\n",
    "    print(\"Loading validation data...\")\n",
    "    X_val, y_val = load_listops_data(val_file)\n",
    "\n",
    "    # Load test data\n",
    "    print(\"Loading test data...\")\n",
    "    X_test, y_test = load_listops_data(test_file)\n",
    "\n",
    "    # Print dataset statistics\n",
    "    print(\"\\nDataset sizes:\")\n",
    "    print(f\"Training: {len(X_train)} examples\")\n",
    "    print(f\"Validation: {len(X_val)} examples\")\n",
    "    print(f\"Test: {len(X_test)} examples\")\n",
    "\n",
    "except Exception as e:\n",
    "    print(f\"Error occurred: {type(e).__name__}: {str(e)}\")"
   ]
  },
  {
   "cell_type": "code",
   "execution_count": 4,
   "id": "dfada6c1",
   "metadata": {
    "execution": {
     "iopub.execute_input": "2024-12-07T09:31:02.367781Z",
     "iopub.status.busy": "2024-12-07T09:31:02.367478Z",
     "iopub.status.idle": "2024-12-07T09:31:02.373315Z",
     "shell.execute_reply": "2024-12-07T09:31:02.372493Z"
    },
    "papermill": {
     "duration": 0.011105,
     "end_time": "2024-12-07T09:31:02.374844",
     "exception": false,
     "start_time": "2024-12-07T09:31:02.363739",
     "status": "completed"
    },
    "tags": []
   },
   "outputs": [],
   "source": [
    "\n",
    "def collate_fn(batch):\n",
    "    # Separate sequences and targets\n",
    "    sequences = [item['input_ids'] for item in batch]\n",
    "    targets = [item['target'] for item in batch]\n",
    "\n",
    "    # Get lengths of each sequence\n",
    "    lengths = torch.tensor([len(seq) for seq in sequences], dtype=torch.long, device=sequences[0].device)\n",
    "\n",
    "    # Sort sequences by length in descending order for pack_padded_sequence\n",
    "    lengths, sort_idx = lengths.sort(descending=True)\n",
    "    sequences = [sequences[i] for i in sort_idx]\n",
    "    targets = [targets[i] for i in sort_idx]\n",
    "\n",
    "    # Pad sequences\n",
    "    padded_sequences = pad_sequence(sequences, batch_first=True)\n",
    "    packed_sequences = pack_padded_sequence(padded_sequences, lengths, batch_first=True, enforce_sorted=False)\n",
    "    # Convert targets to tensor\n",
    "    targets = torch.stack(targets)\n",
    "\n",
    "    return {\n",
    "        'input_ids': packed_sequences,\n",
    "        'target': targets,\n",
    "        'lengths': lengths\n",
    "    }"
   ]
  },
  {
   "cell_type": "code",
   "execution_count": 5,
   "id": "00cc8053",
   "metadata": {
    "execution": {
     "iopub.execute_input": "2024-12-07T09:31:02.381631Z",
     "iopub.status.busy": "2024-12-07T09:31:02.381374Z",
     "iopub.status.idle": "2024-12-07T09:31:02.387177Z",
     "shell.execute_reply": "2024-12-07T09:31:02.386337Z"
    },
    "papermill": {
     "duration": 0.011439,
     "end_time": "2024-12-07T09:31:02.389158",
     "exception": false,
     "start_time": "2024-12-07T09:31:02.377719",
     "status": "completed"
    },
    "tags": []
   },
   "outputs": [
    {
     "name": "stdout",
     "output_type": "stream",
     "text": [
      "Dataset sizes:\n",
      "Train: 96000\n",
      "Val: 2000\n",
      "Test: 2000\n"
     ]
    }
   ],
   "source": [
    "\n",
    "# Create datasets\n",
    "train_dataset = ListOpsDataset(X_train, y_train)\n",
    "val_dataset = ListOpsDataset(X_val, y_val)\n",
    "test_dataset = ListOpsDataset(X_test, y_test)\n",
    "\n",
    "# Create dataloaders with collate_fn\n",
    "batch_size = 32\n",
    "train_loader = DataLoader(\n",
    "    train_dataset,\n",
    "    batch_size=batch_size,\n",
    "    shuffle=True,\n",
    "    collate_fn=collate_fn\n",
    ")\n",
    "val_loader = DataLoader(\n",
    "    val_dataset,\n",
    "    batch_size=batch_size,\n",
    "    collate_fn=collate_fn\n",
    ")\n",
    "test_loader = DataLoader(\n",
    "    test_dataset,\n",
    "    batch_size=batch_size,\n",
    "    collate_fn=collate_fn\n",
    ")\n",
    "\n",
    "# Verify the data\n",
    "print(\"Dataset sizes:\")\n",
    "print(f\"Train: {len(train_dataset)}\")\n",
    "print(f\"Val: {len(val_dataset)}\")\n",
    "print(f\"Test: {len(test_dataset)}\")\n"
   ]
  },
  {
   "cell_type": "code",
   "execution_count": 6,
   "id": "b51c6ba3",
   "metadata": {
    "execution": {
     "iopub.execute_input": "2024-12-07T09:31:02.396826Z",
     "iopub.status.busy": "2024-12-07T09:31:02.396575Z",
     "iopub.status.idle": "2024-12-07T09:31:02.459489Z",
     "shell.execute_reply": "2024-12-07T09:31:02.458547Z"
    },
    "papermill": {
     "duration": 0.069261,
     "end_time": "2024-12-07T09:31:02.461174",
     "exception": false,
     "start_time": "2024-12-07T09:31:02.391913",
     "status": "completed"
    },
    "tags": []
   },
   "outputs": [
    {
     "name": "stdout",
     "output_type": "stream",
     "text": [
      "Using device: cuda\n"
     ]
    }
   ],
   "source": [
    "# Validation function\n",
    "\n",
    "def validate(model, val_loader, criterion, device):\n",
    "    model.eval()\n",
    "    total_loss = 0\n",
    "    correct = 0\n",
    "    total = 0\n",
    "\n",
    "    with torch.no_grad():\n",
    "        for batch in val_loader:\n",
    "            # Move batch to device\n",
    "            batch = {k: v.to(device) for k, v in batch.items()}\n",
    "\n",
    "            outputs = model(batch)  # Pass the entire batch dictionary\n",
    "            loss = criterion(outputs, batch['target'])\n",
    "\n",
    "            total_loss += loss.item()\n",
    "            _, predicted = outputs.max(1)\n",
    "            total += batch['target'].size(0)\n",
    "            correct += predicted.eq(batch['target']).sum().item()\n",
    "\n",
    "    return total_loss / len(val_loader), 100. * correct / total\n",
    "\n",
    "# Initialize model and training components\n",
    "device = torch.device('cuda' if torch.cuda.is_available() else 'cpu')\n",
    "print(f\"Using device: {device}\")\n"
   ]
  },
  {
   "cell_type": "code",
   "execution_count": 7,
   "id": "3eb6758a",
   "metadata": {
    "execution": {
     "iopub.execute_input": "2024-12-07T09:31:02.468232Z",
     "iopub.status.busy": "2024-12-07T09:31:02.467915Z",
     "iopub.status.idle": "2024-12-07T09:31:02.473243Z",
     "shell.execute_reply": "2024-12-07T09:31:02.472546Z"
    },
    "papermill": {
     "duration": 0.01051,
     "end_time": "2024-12-07T09:31:02.474708",
     "exception": false,
     "start_time": "2024-12-07T09:31:02.464198",
     "status": "completed"
    },
    "tags": []
   },
   "outputs": [],
   "source": [
    "# First, add this class definition for Focal Loss\n",
    "class FocalLoss(nn.Module):\n",
    "    def __init__(self, alpha=1, gamma=2):\n",
    "        super().__init__()\n",
    "        self.alpha = alpha\n",
    "        self.gamma = gamma\n",
    "        self.ce = nn.CrossEntropyLoss(reduction='none')\n",
    "\n",
    "    def forward(self, inputs, targets):\n",
    "        ce_loss = self.ce(inputs, targets)\n",
    "        pt = torch.exp(-ce_loss)\n",
    "        focal_loss = self.alpha * (1-pt)**self.gamma * ce_loss\n",
    "        return focal_loss.mean()\n",
    "\n",
    "# Then modify the criterion initialization\n",
    "criterion = FocalLoss(gamma=2)"
   ]
  },
  {
   "cell_type": "code",
   "execution_count": 8,
   "id": "9d9c36cc",
   "metadata": {
    "execution": {
     "iopub.execute_input": "2024-12-07T09:31:02.481497Z",
     "iopub.status.busy": "2024-12-07T09:31:02.481233Z",
     "iopub.status.idle": "2024-12-07T09:31:02.486479Z",
     "shell.execute_reply": "2024-12-07T09:31:02.485724Z"
    },
    "papermill": {
     "duration": 0.0105,
     "end_time": "2024-12-07T09:31:02.488118",
     "exception": false,
     "start_time": "2024-12-07T09:31:02.477618",
     "status": "completed"
    },
    "tags": []
   },
   "outputs": [],
   "source": [
    "# Training configuration\n",
    "class EarlyStopping:\n",
    "    def __init__(self, patience=7, min_delta=0):\n",
    "        self.patience = patience\n",
    "        self.min_delta = min_delta\n",
    "        self.counter = 0\n",
    "        self.best_loss = None\n",
    "        self.early_stop = False\n",
    "        self.best_model = None\n",
    "\n",
    "    def __call__(self, val_loss, model):\n",
    "        if self.best_loss is None:\n",
    "            self.best_loss = val_loss\n",
    "            self.best_model = model.state_dict()\n",
    "        elif val_loss > self.best_loss - self.min_delta:\n",
    "            self.counter += 1\n",
    "            if self.counter >= self.patience:\n",
    "                self.early_stop = True\n",
    "        else:\n",
    "            self.best_loss = val_loss\n",
    "            self.best_model = model.state_dict()\n",
    "            self.counter = 0\n"
   ]
  },
  {
   "cell_type": "code",
   "execution_count": 9,
   "id": "781293b7",
   "metadata": {
    "execution": {
     "iopub.execute_input": "2024-12-07T09:31:02.495140Z",
     "iopub.status.busy": "2024-12-07T09:31:02.494868Z",
     "iopub.status.idle": "2024-12-07T11:30:45.096822Z",
     "shell.execute_reply": "2024-12-07T11:30:45.095626Z"
    },
    "papermill": {
     "duration": 7182.609257,
     "end_time": "2024-12-07T11:30:45.100255",
     "exception": false,
     "start_time": "2024-12-07T09:31:02.490998",
     "status": "completed"
    },
    "tags": []
   },
   "outputs": [
    {
     "name": "stderr",
     "output_type": "stream",
     "text": [
      "/opt/conda/lib/python3.10/site-packages/torch/optim/lr_scheduler.py:60: UserWarning: The verbose parameter is deprecated. Please use get_last_lr() to access the learning rate.\n",
      "  warnings.warn(\n",
      "Epoch 1/7: 100%|██████████| 3000/3000 [16:54<00:00,  2.96it/s, loss=1.16, acc=22.5]\n"
     ]
    },
    {
     "name": "stdout",
     "output_type": "stream",
     "text": [
      "Epoch 1/7:\n",
      "Training Loss: 1.6433\n",
      "Training Accuracy: 22.47%\n",
      "Validation Loss: 1.1752\n",
      "Validation Accuracy: 36.65%\n"
     ]
    },
    {
     "name": "stderr",
     "output_type": "stream",
     "text": [
      "Epoch 2/7: 100%|██████████| 3000/3000 [16:57<00:00,  2.95it/s, loss=0.957, acc=37.5]\n"
     ]
    },
    {
     "name": "stdout",
     "output_type": "stream",
     "text": [
      "Epoch 2/7:\n",
      "Training Loss: 1.1501\n",
      "Training Accuracy: 37.46%\n",
      "Validation Loss: 1.1186\n",
      "Validation Accuracy: 37.70%\n"
     ]
    },
    {
     "name": "stderr",
     "output_type": "stream",
     "text": [
      "Epoch 3/7: 100%|██████████| 3000/3000 [16:55<00:00,  2.95it/s, loss=1.24, acc=38]\n"
     ]
    },
    {
     "name": "stdout",
     "output_type": "stream",
     "text": [
      "Epoch 3/7:\n",
      "Training Loss: 1.1199\n",
      "Training Accuracy: 37.99%\n",
      "Validation Loss: 1.0966\n",
      "Validation Accuracy: 37.25%\n"
     ]
    },
    {
     "name": "stderr",
     "output_type": "stream",
     "text": [
      "Epoch 4/7: 100%|██████████| 3000/3000 [16:57<00:00,  2.95it/s, loss=1.1, acc=39.7]\n"
     ]
    },
    {
     "name": "stdout",
     "output_type": "stream",
     "text": [
      "Epoch 4/7:\n",
      "Training Loss: 1.0578\n",
      "Training Accuracy: 39.73%\n",
      "Validation Loss: 0.9843\n",
      "Validation Accuracy: 42.10%\n"
     ]
    },
    {
     "name": "stderr",
     "output_type": "stream",
     "text": [
      "Epoch 5/7: 100%|██████████| 3000/3000 [16:58<00:00,  2.95it/s, loss=0.905, acc=45.2]\n"
     ]
    },
    {
     "name": "stdout",
     "output_type": "stream",
     "text": [
      "Epoch 5/7:\n",
      "Training Loss: 0.9104\n",
      "Training Accuracy: 45.21%\n",
      "Validation Loss: 0.8246\n",
      "Validation Accuracy: 51.45%\n"
     ]
    },
    {
     "name": "stderr",
     "output_type": "stream",
     "text": [
      "Epoch 6/7: 100%|██████████| 3000/3000 [17:00<00:00,  2.94it/s, loss=0.6, acc=51.4]\n"
     ]
    },
    {
     "name": "stdout",
     "output_type": "stream",
     "text": [
      "Epoch 6/7:\n",
      "Training Loss: 0.8134\n",
      "Training Accuracy: 51.36%\n",
      "Validation Loss: 0.7519\n",
      "Validation Accuracy: 55.10%\n"
     ]
    },
    {
     "name": "stderr",
     "output_type": "stream",
     "text": [
      "Epoch 7/7: 100%|██████████| 3000/3000 [16:56<00:00,  2.95it/s, loss=0.593, acc=55.6]\n"
     ]
    },
    {
     "name": "stdout",
     "output_type": "stream",
     "text": [
      "Epoch 7/7:\n",
      "Training Loss: 0.7572\n",
      "Training Accuracy: 55.60%\n",
      "Validation Loss: 0.7523\n",
      "Validation Accuracy: 56.20%\n"
     ]
    }
   ],
   "source": [
    "class AttentionLSTM(nn.Module):\n",
    "    def __init__(self, vocab_size, embedding_dim=128, hidden_dim=256, num_layers=2, dropout=0.3, num_classes=10):\n",
    "        super().__init__()\n",
    "        \n",
    "        self.embedding = nn.Embedding(vocab_size, embedding_dim)\n",
    "        self.lstm = nn.LSTM(\n",
    "            input_size=embedding_dim,\n",
    "            hidden_size=hidden_dim,\n",
    "            num_layers=num_layers,\n",
    "            batch_first=True,\n",
    "            dropout=dropout if num_layers > 1 else 0,\n",
    "            bidirectional=True\n",
    "        )\n",
    "        \n",
    "        # Attention layer\n",
    "        self.attention = nn.Linear(hidden_dim * 2, 1)\n",
    "        \n",
    "        # Final classification layers\n",
    "        self.fc = nn.Sequential(\n",
    "            nn.Linear(hidden_dim * 2, hidden_dim),\n",
    "            nn.ReLU(),\n",
    "            nn.Dropout(dropout),\n",
    "            nn.Linear(hidden_dim, num_classes)\n",
    "        )\n",
    "\n",
    "    def forward(self, batch):\n",
    "        # Get the packed sequence from the batch\n",
    "        packed_input = batch['input_ids']\n",
    "        \n",
    "        # Embed the input\n",
    "        embedded = self.embedding(packed_input.data)\n",
    "        packed_embedded = PackedSequence(embedded, packed_input.batch_sizes,\n",
    "                                       packed_input.sorted_indices, packed_input.unsorted_indices)\n",
    "        \n",
    "        # Pass through LSTM\n",
    "        packed_output, _ = self.lstm(packed_embedded)\n",
    "        \n",
    "        # Unpack the sequence\n",
    "        lstm_output, lengths = pad_packed_sequence(packed_output, batch_first=True)\n",
    "        batch_size = lstm_output.size(0)\n",
    "        \n",
    "        # Calculate attention weights\n",
    "        attention_weights = self.attention(lstm_output)\n",
    "        attention_weights = torch.softmax(attention_weights, dim=1)\n",
    "        \n",
    "        # Apply attention weights to get context vector\n",
    "        context_vector = torch.bmm(attention_weights.transpose(1, 2), lstm_output)\n",
    "        context_vector = context_vector.squeeze(1)\n",
    "        \n",
    "        # Final classification\n",
    "        output = self.fc(context_vector)\n",
    "        return output\n",
    "\n",
    "# Initialize the model\n",
    "vocab_size = len(train_dataset.vocab)  # Get vocabulary size from your dataset\n",
    "model = AttentionLSTM(vocab_size=vocab_size).to(device)\n",
    "\n",
    "# Initialize optimizer\n",
    "optimizer = torch.optim.AdamW(model.parameters(), lr=0.001, weight_decay=0.01)\n",
    "scheduler = torch.optim.lr_scheduler.ReduceLROnPlateau(optimizer, mode='min', factor=0.5, patience=3, verbose=True)\n",
    "\n",
    "# Training loop\n",
    "def train_model(model, train_loader, val_loader, criterion, optimizer, scheduler, num_epochs=7):\n",
    "    early_stopping = EarlyStopping(patience=7)\n",
    "    train_losses = []\n",
    "    val_losses = []\n",
    "    val_accuracies = []\n",
    "    \n",
    "    for epoch in range(num_epochs):\n",
    "        model.train()\n",
    "        total_loss = 0\n",
    "        correct = 0  # Add counter for correct predictions\n",
    "        total = 0    # Add counter for total predictions\n",
    "        \n",
    "        with tqdm(train_loader, desc=f'Epoch {epoch+1}/{num_epochs}') as pbar:\n",
    "            for batch in pbar:\n",
    "                batch = {k: v.to(device) for k, v in batch.items()}\n",
    "                \n",
    "                optimizer.zero_grad()\n",
    "                outputs = model(batch)\n",
    "                loss = criterion(outputs, batch['target'])\n",
    "                \n",
    "                # Calculate training accuracy\n",
    "                _, predicted = outputs.max(1)\n",
    "                total += batch['target'].size(0)\n",
    "                correct += predicted.eq(batch['target']).sum().item()\n",
    "                \n",
    "                loss.backward()\n",
    "                torch.nn.utils.clip_grad_norm_(model.parameters(), max_norm=1.0)\n",
    "                optimizer.step()\n",
    "                \n",
    "                total_loss += loss.item()\n",
    "                # Update progress bar with both loss and accuracy\n",
    "                pbar.set_postfix({\n",
    "                    'loss': loss.item(),\n",
    "                    'acc': 100. * correct / total\n",
    "                })\n",
    "        \n",
    "        # Calculate training accuracy for the epoch\n",
    "        train_accuracy = 100. * correct / total\n",
    "        \n",
    "        # Validation phase\n",
    "        val_loss, val_accuracy = validate(model, val_loader, criterion, device)\n",
    "        \n",
    "        # Learning rate scheduling\n",
    "        scheduler.step(val_loss)\n",
    "        \n",
    "        # Print epoch results with both accuracies\n",
    "        print(f'Epoch {epoch+1}/{num_epochs}:')\n",
    "        print(f'Training Loss: {total_loss/len(train_loader):.4f}')\n",
    "        print(f'Training Accuracy: {train_accuracy:.2f}%')\n",
    "        print(f'Validation Loss: {val_loss:.4f}')\n",
    "        print(f'Validation Accuracy: {val_accuracy:.2f}%')\n",
    "        \n",
    "        # Early stopping\n",
    "        early_stopping(val_loss, model)\n",
    "        if early_stopping.early_stop:\n",
    "            print(\"Early stopping triggered\")\n",
    "            model.load_state_dict(early_stopping.best_model)\n",
    "            break\n",
    "        \n",
    "        # Store metrics\n",
    "        train_losses.append(total_loss/len(train_loader))\n",
    "        val_losses.append(val_loss)\n",
    "        val_accuracies.append(val_accuracy)\n",
    "    \n",
    "    return train_losses, val_losses, val_accuracies\n",
    "\n",
    "# Train the model\n",
    "train_losses, val_losses, val_accuracies = train_model(\n",
    "    model, train_loader, val_loader, criterion, optimizer, scheduler\n",
    ")"
   ]
  },
  {
   "cell_type": "code",
   "execution_count": 10,
   "id": "08b9b302",
   "metadata": {
    "execution": {
     "iopub.execute_input": "2024-12-07T11:30:49.154774Z",
     "iopub.status.busy": "2024-12-07T11:30:49.154344Z",
     "iopub.status.idle": "2024-12-07T13:30:41.841847Z",
     "shell.execute_reply": "2024-12-07T13:30:41.840939Z"
    },
    "papermill": {
     "duration": 7194.734265,
     "end_time": "2024-12-07T13:30:41.843781",
     "exception": false,
     "start_time": "2024-12-07T11:30:47.109516",
     "status": "completed"
    },
    "tags": []
   },
   "outputs": [
    {
     "name": "stderr",
     "output_type": "stream",
     "text": [
      "Epoch 1/7: 100%|██████████| 3000/3000 [16:59<00:00,  2.94it/s, loss=0.615, acc=57.5]\n"
     ]
    },
    {
     "name": "stdout",
     "output_type": "stream",
     "text": [
      "Epoch 1/7:\n",
      "Training Loss: 0.7304\n",
      "Training Accuracy: 57.47%\n",
      "Validation Loss: 0.7253\n",
      "Validation Accuracy: 58.00%\n"
     ]
    },
    {
     "name": "stderr",
     "output_type": "stream",
     "text": [
      "Epoch 2/7: 100%|██████████| 3000/3000 [16:56<00:00,  2.95it/s, loss=0.758, acc=58.5]\n"
     ]
    },
    {
     "name": "stdout",
     "output_type": "stream",
     "text": [
      "Epoch 2/7:\n",
      "Training Loss: 0.7126\n",
      "Training Accuracy: 58.55%\n",
      "Validation Loss: 0.7182\n",
      "Validation Accuracy: 58.10%\n"
     ]
    },
    {
     "name": "stderr",
     "output_type": "stream",
     "text": [
      "Epoch 3/7: 100%|██████████| 3000/3000 [16:59<00:00,  2.94it/s, loss=0.592, acc=59.3]\n"
     ]
    },
    {
     "name": "stdout",
     "output_type": "stream",
     "text": [
      "Epoch 3/7:\n",
      "Training Loss: 0.6983\n",
      "Training Accuracy: 59.32%\n",
      "Validation Loss: 0.7083\n",
      "Validation Accuracy: 58.10%\n"
     ]
    },
    {
     "name": "stderr",
     "output_type": "stream",
     "text": [
      "Epoch 4/7: 100%|██████████| 3000/3000 [16:57<00:00,  2.95it/s, loss=1.13, acc=60.1]\n"
     ]
    },
    {
     "name": "stdout",
     "output_type": "stream",
     "text": [
      "Epoch 4/7:\n",
      "Training Loss: 0.6858\n",
      "Training Accuracy: 60.06%\n",
      "Validation Loss: 0.6909\n",
      "Validation Accuracy: 60.00%\n"
     ]
    },
    {
     "name": "stderr",
     "output_type": "stream",
     "text": [
      "Epoch 5/7: 100%|██████████| 3000/3000 [16:59<00:00,  2.94it/s, loss=0.731, acc=60.8]\n"
     ]
    },
    {
     "name": "stdout",
     "output_type": "stream",
     "text": [
      "Epoch 5/7:\n",
      "Training Loss: 0.6738\n",
      "Training Accuracy: 60.75%\n",
      "Validation Loss: 0.6880\n",
      "Validation Accuracy: 59.80%\n"
     ]
    },
    {
     "name": "stderr",
     "output_type": "stream",
     "text": [
      "Epoch 6/7: 100%|██████████| 3000/3000 [16:58<00:00,  2.95it/s, loss=0.72, acc=61.1]\n"
     ]
    },
    {
     "name": "stdout",
     "output_type": "stream",
     "text": [
      "Epoch 6/7:\n",
      "Training Loss: 0.6647\n",
      "Training Accuracy: 61.11%\n",
      "Validation Loss: 0.6791\n",
      "Validation Accuracy: 60.50%\n"
     ]
    },
    {
     "name": "stderr",
     "output_type": "stream",
     "text": [
      "Epoch 7/7: 100%|██████████| 3000/3000 [16:59<00:00,  2.94it/s, loss=0.821, acc=61.6]\n"
     ]
    },
    {
     "name": "stdout",
     "output_type": "stream",
     "text": [
      "Epoch 7/7:\n",
      "Training Loss: 0.6547\n",
      "Training Accuracy: 61.65%\n",
      "Validation Loss: 0.6909\n",
      "Validation Accuracy: 59.80%\n"
     ]
    },
    {
     "data": {
      "image/png": "[encoded data removed]",
      "text/plain": [
       "<Figure size 1200x500 with 2 Axes>"
      ]
     },
     "metadata": {},
     "output_type": "display_data"
    }
   ],
   "source": [
    "import matplotlib.pyplot as plt\n",
    "\n",
    "# After training the model\n",
    "train_losses, val_losses, val_accuracies = train_model(\n",
    "    model, train_loader, val_loader, criterion, optimizer, scheduler\n",
    ")\n",
    "\n",
    "# Plotting the training and validation losses\n",
    "plt.figure(figsize=(12, 5))\n",
    "\n",
    "# Plot losses\n",
    "plt.subplot(1, 2, 1)\n",
    "plt.plot(train_losses, label='Train Loss', color='blue')\n",
    "plt.plot(val_losses, label='Validation Loss', color='orange')\n",
    "plt.title('Training and Validation Loss')\n",
    "plt.xlabel('Epoch')\n",
    "plt.ylabel('Loss')\n",
    "plt.legend()\n",
    "\n",
    "# Plotting the validation accuracies\n",
    "plt.subplot(1, 2, 2)\n",
    "plt.plot(val_accuracies, label='Validation Accuracy', color='green')\n",
    "plt.title('Validation Accuracy')\n",
    "plt.xlabel('Epoch')\n",
    "plt.ylabel('Accuracy (%)')\n",
    "plt.legend()\n",
    "\n",
    "plt.tight_layout()\n",
    "plt.show()"
   ]
  },
  {
   "cell_type": "code",
   "execution_count": 11,
   "id": "6845689d",
   "metadata": {
    "execution": {
     "iopub.execute_input": "2024-12-07T13:30:50.008118Z",
     "iopub.status.busy": "2024-12-07T13:30:50.007376Z",
     "iopub.status.idle": "2024-12-07T13:30:58.923256Z",
     "shell.execute_reply": "2024-12-07T13:30:58.922138Z"
    },
    "papermill": {
     "duration": 12.968085,
     "end_time": "2024-12-07T13:30:58.925600",
     "exception": false,
     "start_time": "2024-12-07T13:30:45.957515",
     "status": "completed"
    },
    "tags": []
   },
   "outputs": [
    {
     "name": "stdout",
     "output_type": "stream",
     "text": [
      "\n",
      "Test Loss: 0.6666 | Test Acc: 62.25%\n"
     ]
    }
   ],
   "source": [
    "test_loss, test_acc = validate(model, test_loader, criterion, device)\n",
    "print(f'\\nTest Loss: {test_loss:.4f} | Test Acc: {test_acc:.2f}%')"
   ]
  },
  {
   "cell_type": "code",
   "execution_count": 12,
   "id": "13500600",
   "metadata": {
    "execution": {
     "iopub.execute_input": "2024-12-07T13:31:07.153553Z",
     "iopub.status.busy": "2024-12-07T13:31:07.153210Z",
     "iopub.status.idle": "2024-12-07T13:31:07.182692Z",
     "shell.execute_reply": "2024-12-07T13:31:07.181465Z"
    },
    "papermill": {
     "duration": 4.133199,
     "end_time": "2024-12-07T13:31:07.184692",
     "exception": false,
     "start_time": "2024-12-07T13:31:03.051493",
     "status": "completed"
    },
    "tags": []
   },
   "outputs": [],
   "source": [
    "torch.save(model.state_dict(), 'lstm_with_attention_model.pth')"
   ]
  }
 ],
 "metadata": {
  "kaggle": {
   "accelerator": "gpu",
   "dataSources": [
    {
     "datasetId": 6243843,
     "sourceId": 10119371,
     "sourceType": "datasetVersion"
    }
   ],
   "dockerImageVersionId": 30805,
   "isGpuEnabled": true,
   "isInternetEnabled": true,
   "language": "python",
   "sourceType": "notebook"
  },
  "kernelspec": {
   "display_name": "Python 3",
   "language": "python",
   "name": "python3"
  },
  "language_info": {
   "codemirror_mode": {
    "name": "ipython",
    "version": 3
   },
   "file_extension": ".py",
   "mimetype": "text/x-python",
   "name": "python",
   "nbconvert_exporter": "python",
   "pygments_lexer": "ipython3",
   "version": "3.10.14"
  },
  "papermill": {
   "default_parameters": {},
   "duration": 14425.278227,
   "end_time": "2024-12-07T13:31:13.225816",
   "environment_variables": {},
   "exception": null,
   "input_path": "__notebook__.ipynb",
   "output_path": "__notebook__.ipynb",
   "parameters": {},
   "start_time": "2024-12-07T09:30:47.947589",
   "version": "2.6.0"
  }
 },
 "nbformat": 4,
 "nbformat_minor": 5
}
